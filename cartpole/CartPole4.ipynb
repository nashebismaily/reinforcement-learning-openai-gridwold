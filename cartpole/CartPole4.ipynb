{
 "cells": [
  {
   "cell_type": "markdown",
   "metadata": {},
   "source": [
    "# OpenAI Gym CartPole Environment"
   ]
  },
  {
   "cell_type": "code",
   "execution_count": 1,
   "metadata": {},
   "outputs": [
    {
     "data": {
      "text/plain": [
       "array([ 0.00057725,  0.01016388, -0.02229136, -0.04381697])"
      ]
     },
     "execution_count": 1,
     "metadata": {},
     "output_type": "execute_result"
    }
   ],
   "source": [
    "import random\n",
    "random.seed() # pseudo random number generator seed - here it is None\n",
    "# random.seed(1234) # pseudo random number generator seed - set value for repeatable pseudo random numbers\n",
    "import gym\n",
    "env = gym.make('CartPole-v0')\n",
    "env.reset()"
   ]
  },
  {
   "cell_type": "markdown",
   "metadata": {
    "tags": []
   },
   "source": [
    "Let $a(s,w)$ be the action to take at state $s$. Let $w$ be a four-dimensional vector of random numbers. The inner product of $s$ with $w$ defines action as follows. If the inner produce is greater than 0 then action 1 otherwise action 0. \n",
    "\n",
    "$$\n",
    "a(s,w) = \\left\\{ \n",
    "    \\begin{array}{ll}\n",
    "    0 & \\mbox{if } s \\cdot w \\leq 0 \\\\ \n",
    "    1 & \\mbox{if } s \\cdot w > 0\n",
    "    \\end{array}\n",
    "\\right.\n",
    "$$\n",
    "Below is the implementation of this function."
   ]
  },
  {
   "cell_type": "code",
   "execution_count": 2,
   "metadata": {},
   "outputs": [],
   "source": [
    "def action(s, w):\n",
    "    if s.dot(w) > 0:\n",
    "        return 1\n",
    "    else:\n",
    "        return 0\n",
    "    \n",
    "# this function returns a random parameter vector     \n",
    "def get_params(): # generate four random numbers on the interval [-1.0, 1.0)\n",
    "    w = [2*random.random()-1, 2*random.random()-1, 2*random.random()-1, 2*random.random()-1]\n",
    "    return w"
   ]
  },
  {
   "cell_type": "markdown",
   "metadata": {},
   "source": [
    "#### Implement a Random Polilcy"
   ]
  },
  {
   "cell_type": "code",
   "execution_count": 3,
   "metadata": {
    "tags": []
   },
   "outputs": [
    {
     "name": "stdout",
     "output_type": "stream",
     "text": [
      "[15, 16, 12, 20, 11, 28, 15, 21, 13, 26, 13, 10, 12, 18, 11, 10, 20, 10, 14, 11, 14, 15, 16, 21, 9, 15, 15, 21, 11, 19, 18, 31, 13, 18, 20, 24, 12, 12, 16, 15, 34, 42, 11, 26, 17, 19, 18, 16, 18, 10, 55, 16, 21, 15, 20, 27, 20, 28, 53, 19, 16, 14, 13, 25, 12, 35, 39, 14, 13, 12, 15, 59, 43, 78, 18, 16, 21, 35, 15, 30, 31, 9, 36, 12, 15, 49, 13, 65, 33, 18, 16, 15, 52, 23, 15, 27, 21, 24, 10, 33]\n",
      "Average number of steps: 21.66\n",
      "Min number of steps: 9\n",
      "Max number of steps: 78\n"
     ]
    }
   ],
   "source": [
    "env._max_episode_steps = 200 # default 200, override for what ever value desired\n",
    "num_iter = 100\n",
    "\n",
    "num_steps_list = []\n",
    "\n",
    "for j in range(num_iter):\n",
    "    obs = env.reset()\n",
    "    done = False\n",
    "    num_steps = 0\n",
    "    while not done:\n",
    "        a = random.randint(0,1)\n",
    "        obs, reward, done, _ = env.step(a) \n",
    "        num_steps += 1\n",
    "    num_steps_list.append(num_steps)     \n",
    "print(num_steps_list)     \n",
    "print(\"Average number of steps:\", sum(num_steps_list)/len(num_steps_list))\n",
    "print(\"Min number of steps:\", min(num_steps_list)) \n",
    "print(\"Max number of steps:\", max(num_steps_list))"
   ]
  },
  {
   "cell_type": "markdown",
   "metadata": {},
   "source": [
    "#### Implement a policy that alternatiely moves left and right using modulus function"
   ]
  },
  {
   "cell_type": "code",
   "execution_count": 4,
   "metadata": {
    "tags": []
   },
   "outputs": [
    {
     "name": "stdout",
     "output_type": "stream",
     "text": [
      "[25, 32, 28, 31, 33, 26, 30, 32, 26, 41, 28, 21, 29, 32, 27, 38, 52, 22, 24, 47, 46, 54, 45, 28, 21, 22, 32, 31, 27, 40, 49, 23, 45, 82, 23, 22, 39, 90, 38, 22, 35, 24, 25, 30, 49, 27, 24, 30, 23, 52, 43, 41, 33, 34, 25, 39, 39, 52, 25, 65, 29, 31, 45, 24, 29, 52, 55, 26, 50, 40, 26, 44, 40, 22, 23, 28, 61, 46, 29, 36, 34, 42, 30, 49, 52, 44, 24, 31, 68, 23, 45, 34, 23, 45, 23, 48, 40, 43, 29, 35]\n",
      "Average number of steps: 36.16\n",
      "Min number of steps: 21\n",
      "Max number of steps: 90\n"
     ]
    }
   ],
   "source": [
    "env._max_episode_steps = 200 # default 200, override for what ever value desired\n",
    "num_iter = 100\n",
    "\n",
    "num_steps_list = []\n",
    "\n",
    "for _ in range(num_iter):\n",
    "    obs = env.reset()\n",
    "    done = False\n",
    "    num_steps = 0\n",
    "    while not done:\n",
    "        a = num_steps%2\n",
    "        obs, reward, done, _ = env.step(a) \n",
    "        num_steps += 1\n",
    "    num_steps_list.append(num_steps)\n",
    "        \n",
    "print(num_steps_list)     \n",
    "print(\"Average number of steps:\", sum(num_steps_list)/len(num_steps_list))\n",
    "print(\"Min number of steps:\", min(num_steps_list)) \n",
    "print(\"Max number of steps:\", max(num_steps_list))   "
   ]
  },
  {
   "cell_type": "markdown",
   "metadata": {},
   "source": [
    "#### Implement the dot product with random weights policy"
   ]
  },
  {
   "cell_type": "code",
   "execution_count": 9,
   "metadata": {
    "tags": []
   },
   "outputs": [
    {
     "name": "stdout",
     "output_type": "stream",
     "text": [
      "[8, 9, 69, 10, 8, 10, 9, 10, 157, 9, 43, 9, 30, 8, 10, 69, 26, 10, 9, 9, 497, 9, 9, 402, 339, 10, 99, 53, 113, 45, 106, 25, 12, 9, 34, 9, 10, 33, 9, 9, 9, 18, 50, 10, 82, 30, 10, 10, 10, 10, 9, 10, 116, 10, 66, 32, 10, 92, 317, 412, 91, 9, 9, 131, 217, 9, 161, 11, 58, 9, 42, 92, 140, 8, 9, 55, 500, 500, 33, 9, 9, 10, 199, 8, 8, 26, 10, 90, 9, 387, 9, 9, 10, 9, 109, 146, 10, 9, 8, 9]\n",
      "Average number of steps: 68.44\n",
      "Min number of steps: 8\n",
      "Max number of steps: 500\n"
     ]
    }
   ],
   "source": [
    "env._max_episode_steps = 500 # default 200, override for what ever value desired\n",
    "num_iter = 100\n",
    "\n",
    "num_steps_list = []\n",
    "\n",
    "for _ in range(num_iter):\n",
    "    obs = env.reset()\n",
    "    done = False\n",
    "    num_steps = 0\n",
    "    w = get_params()\n",
    "    while not done:\n",
    "        a = action(obs, w)\n",
    "        obs, reward, done, _ = env.step(a)\n",
    "        num_steps += 1\n",
    "    num_steps_list.append(num_steps)\n",
    "    \n",
    "print(num_steps_list)     \n",
    "print(\"Average number of steps:\", sum(num_steps_list)/len(num_steps_list))\n",
    "print(\"Min number of steps:\", min(num_steps_list)) \n",
    "print(\"Max number of steps:\", max(num_steps_list)) "
   ]
  },
  {
   "cell_type": "code",
   "execution_count": null,
   "metadata": {},
   "outputs": [],
   "source": []
  },
  {
   "cell_type": "code",
   "execution_count": null,
   "metadata": {},
   "outputs": [],
   "source": []
  },
  {
   "cell_type": "code",
   "execution_count": null,
   "metadata": {},
   "outputs": [],
   "source": []
  }
 ],
 "metadata": {
  "kernelspec": {
   "display_name": "Python 3",
   "language": "python",
   "name": "python3"
  },
  "language_info": {
   "codemirror_mode": {
    "name": "ipython",
    "version": 3
   },
   "file_extension": ".py",
   "mimetype": "text/x-python",
   "name": "python",
   "nbconvert_exporter": "python",
   "pygments_lexer": "ipython3",
   "version": "3.6.9"
  }
 },
 "nbformat": 4,
 "nbformat_minor": 5
}
