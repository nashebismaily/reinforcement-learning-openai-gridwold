{
 "cells": [
  {
   "cell_type": "markdown",
   "metadata": {},
   "source": [
    "# OpenAI Gym CartPole Environment"
   ]
  },
  {
   "cell_type": "code",
   "execution_count": 1,
   "metadata": {},
   "outputs": [
    {
     "data": {
      "text/plain": [
       "array([ 0.03770442, -0.02650251,  0.04997135, -0.02496538])"
      ]
     },
     "execution_count": 1,
     "metadata": {},
     "output_type": "execute_result"
    }
   ],
   "source": [
    "import random\n",
    "import gym\n",
    "env = gym.make('CartPole-v0')\n",
    "env.reset()"
   ]
  },
  {
   "cell_type": "markdown",
   "metadata": {},
   "source": [
    "#### Step function ####\n",
    "The format for taking an action is \n",
    "* observation, reward, done, info = env.step(action)\n",
    "\n",
    "where action is either a 0 or a 1.\n",
    "\n",
    "In the cell below, random actions are taken until the done flag returns True. The number of steps is then printed. This is the number of steps taken until the pole falls over. If you repeatedly execute this step, you will see different numbers of steps taken."
   ]
  },
  {
   "cell_type": "code",
   "execution_count": 10,
   "metadata": {},
   "outputs": [
    {
     "name": "stdout",
     "output_type": "stream",
     "text": [
      "Number of steps until done: 48\n"
     ]
    }
   ],
   "source": [
    "env.reset()\n",
    "done = False\n",
    "num_steps = 0\n",
    "while not done:\n",
    "    num_steps += 1\n",
    "    obs, reward, done, _ = env.step(random.randint(0,1))\n",
    "\n",
    "# prints the number of steps    \n",
    "print(\"Number of steps until done:\",num_steps)"
   ]
  },
  {
   "cell_type": "markdown",
   "metadata": {},
   "source": [
    "In this cell, the step above is run 1000 times recording the number of steps taken until done. Then the average number steps taken until done is computed. The minumum number of steps and maximum number of steps taken is also printed. \n",
    "\n",
    "Run this cell a number of time to see the variability in the estimated mean and minimum and maximum number of steps."
   ]
  },
  {
   "cell_type": "code",
   "execution_count": 12,
   "metadata": {},
   "outputs": [
    {
     "name": "stdout",
     "output_type": "stream",
     "text": [
      "Average number of steps: 22.4463\n",
      "Min number of steps: 8\n",
      "Max number of steps: 106\n"
     ]
    }
   ],
   "source": [
    "num_steps_list = []\n",
    "for _ in range(10000):\n",
    "    env.reset()\n",
    "    done = False\n",
    "    num_steps = 0\n",
    "    while not done:\n",
    "        num_steps += 1\n",
    "        obs, reward, done, _ = env.step(random.randint(0,1))\n",
    "    num_steps_list.append(num_steps)\n",
    "\n",
    "# prints the average number of iterations, until done\n",
    "#print(num_steps_list)\n",
    "print(\"Average number of steps:\", sum(num_steps_list)/len(num_steps_list))\n",
    "print(\"Min number of steps:\", min(num_steps_list)) \n",
    "print(\"Max number of steps:\", max(num_steps_list))"
   ]
  },
  {
   "cell_type": "code",
   "execution_count": null,
   "metadata": {},
   "outputs": [],
   "source": []
  }
 ],
 "metadata": {
  "kernelspec": {
   "display_name": "Python 3",
   "language": "python",
   "name": "python3"
  },
  "language_info": {
   "codemirror_mode": {
    "name": "ipython",
    "version": 3
   },
   "file_extension": ".py",
   "mimetype": "text/x-python",
   "name": "python",
   "nbconvert_exporter": "python",
   "pygments_lexer": "ipython3",
   "version": "3.6.10"
  }
 },
 "nbformat": 4,
 "nbformat_minor": 5
}
