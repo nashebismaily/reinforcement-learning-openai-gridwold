{
 "cells": [
  {
   "cell_type": "code",
   "execution_count": 6,
   "id": "reverse-default",
   "metadata": {},
   "outputs": [],
   "source": [
    "from env import create_custom_grid_1, create_custom_grid_2"
   ]
  },
  {
   "cell_type": "code",
   "execution_count": 7,
   "id": "adequate-scotland",
   "metadata": {},
   "outputs": [],
   "source": [
    "gw1 = create_custom_grid_1()"
   ]
  },
  {
   "cell_type": "code",
   "execution_count": 49,
   "id": "disturbed-allen",
   "metadata": {},
   "outputs": [],
   "source": [
    "policy1 = {\n",
    "    (0, 0): 'right', (0, 1): 'right', (0, 2): 'up', (0, 3): 'up',\n",
    "    (1, 0): 'up', (1, 1): '', (1, 2): '', (1, 3): '',\n",
    "    (2, 0): 'right', (2, 1): 'right', (2, 2): 'down', (2, 3): 'down',\n",
    "    (3, 0): 'right', (3, 1): 'right', (3, 2): 'down', (3, 3): 'down'\n",
    "}"
   ]
  },
  {
   "cell_type": "code",
   "execution_count": 50,
   "id": "aggregate-england",
   "metadata": {},
   "outputs": [
    {
     "name": "stdout",
     "output_type": "stream",
     "text": [
      "Policy\n",
      "-------------------------------------\n",
      "|  Right |  Right |   Down |   Down |\n",
      "-------------------------------------\n",
      "|  Right |  Right |   Down |   Down |\n",
      "-------------------------------------\n",
      "|     Up |        |        |        |\n",
      "-------------------------------------\n",
      "|  Right |  Right |     Up |     Up |\n",
      "-------------------------------------\n",
      "Initial Values\n",
      "-------------------------------------\n",
      "|   0.73 |   0.81 |   0.90 |   0.81 |\n",
      "-------------------------------------\n",
      "|   0.81 |   0.90 |   1.00 |   0.90 |\n",
      "-------------------------------------\n",
      "|   0.73 |   0.00 |   0.00 |   0.00 |\n",
      "-------------------------------------\n",
      "|   0.81 |   0.90 |   1.00 |  -1.00 |\n",
      "-------------------------------------\n"
     ]
    }
   ],
   "source": [
    "print(\"Policy\")\n",
    "gw1.print_policy(policy1)\n",
    "print(\"Initial Values\")\n",
    "gw1.print_values()"
   ]
  },
  {
   "cell_type": "code",
   "execution_count": 93,
   "id": "available-graphic",
   "metadata": {},
   "outputs": [],
   "source": [
    "def iterative_policy_evaluation(gw, policy, gamma, epsilon):\n",
    "    #print(gw)\n",
    "    #print(policy)\n",
    "    #print(gamma)\n",
    "    #print(epsilon)\n",
    "    while True:\n",
    "        biggest_change = 0\n",
    "        for node in gw:\n",
    "            state = node.state\n",
    "            if not gw.is_terminal(state) and not gw.is_barrier(state):\n",
    "                # get current (old) value\n",
    "                old_value = gw.get_value(state)\n",
    "                # get action from policy\n",
    "                action = policy[state]\n",
    "                # get immediate reward for action\n",
    "                reward = gw.get_reward_for_action(state, action)\n",
    "                # get value at destination state\n",
    "                value_at_dest = gw.get_value_at_destination(state, action)\n",
    "                # compute new value\n",
    "                #print(\"state: {}\".format(state))\n",
    "                #print(\"action: {}\".format(action))\n",
    "                #print(\"reward: {}\".format(reward))\n",
    "                #print(\"gamma: {}\".format(gamma))\n",
    "                #print(\"value_at_dest: {}\".format(value_at_dest))\n",
    "                new_value = reward + gamma*value_at_dest\n",
    "                # set new value for state\n",
    "                gw.set_value(state, new_value)\n",
    "                # see if |new_value-old_value| is larger than biggest_change\n",
    "                biggest_change = max(\n",
    "                    biggest_change, abs(new_value-old_value))\n",
    "        # iterated over all states, so see if biggest_change is small enough\n",
    "        if biggest_change < epsilon:\n",
    "            break"
   ]
  },
  {
   "cell_type": "code",
   "execution_count": 69,
   "id": "bearing-wealth",
   "metadata": {},
   "outputs": [
    {
     "name": "stdout",
     "output_type": "stream",
     "text": [
      "Policy\n",
      "-------------------------------------\n",
      "|  Right |  Right |   Down |   Down |\n",
      "-------------------------------------\n",
      "|  Right |  Right |   Down |   Down |\n",
      "-------------------------------------\n",
      "|     Up |        |        |        |\n",
      "-------------------------------------\n",
      "|  Right |  Right |     Up |     Up |\n",
      "-------------------------------------\n",
      "Values for the policy\n",
      "-------------------------------------\n",
      "|   0.06 |   0.23 |   0.90 |  -0.90 |\n",
      "-------------------------------------\n",
      "|   0.23 |   0.90 |   1.00 |  -1.00 |\n",
      "-------------------------------------\n",
      "|   0.06 |   0.00 |   0.00 |   0.00 |\n",
      "-------------------------------------\n",
      "|   0.23 |   0.90 |   1.00 |  -1.00 |\n",
      "-------------------------------------\n"
     ]
    }
   ],
   "source": [
    "print(\"Policy\")\n",
    "gw1.print_policy(policy1)\n",
    "iterative_policy_evaluation(gw1, policy1, 0.9, 0.99)\n",
    "print(\"Values for the policy\")\n",
    "gw1.print_values()"
   ]
  },
  {
   "cell_type": "code",
   "execution_count": 75,
   "id": "saved-tuesday",
   "metadata": {},
   "outputs": [
    {
     "name": "stdout",
     "output_type": "stream",
     "text": [
      "Policy\n",
      "-------------------------------------\n",
      "|  Right |   Left |  Right |   Left |\n",
      "-------------------------------------\n",
      "|  Right |  Right |   Down |   Down |\n",
      "-------------------------------------\n",
      "|     Up |        |        |        |\n",
      "-------------------------------------\n",
      "|  Right |   Left |     Up |     Up |\n",
      "-------------------------------------\n"
     ]
    }
   ],
   "source": [
    "policy2 = {\n",
    "    (0, 0): 'right', (0, 1): 'left', (0, 2): 'up', (0, 3): 'up',\n",
    "    (1, 0): 'up', (1, 1): '', (1, 2): '', (1, 3): '',\n",
    "    (2, 0): 'right', (2, 1): 'right', (2, 2): 'down', (2, 3): 'down',\n",
    "    (3, 0): 'right', (3, 1): 'left', (3, 2): 'right', (3, 3): 'left'\n",
    "}\n",
    "print(\"Policy\")\n",
    "gw1.print_policy(policy2)"
   ]
  },
  {
   "cell_type": "code",
   "execution_count": 83,
   "id": "consistent-solution",
   "metadata": {},
   "outputs": [
    {
     "name": "stdout",
     "output_type": "stream",
     "text": [
      "Values for the policy\n",
      "-------------------------------------\n",
      "|   0.12 |   0.25 |   0.50 |  -0.50 |\n",
      "-------------------------------------\n",
      "|   0.25 |   0.50 |   1.00 |  -1.00 |\n",
      "-------------------------------------\n",
      "|   0.12 |   0.00 |   0.00 |   0.00 |\n",
      "-------------------------------------\n",
      "|   0.25 |   0.50 |   1.00 |  -1.00 |\n",
      "-------------------------------------\n"
     ]
    }
   ],
   "source": [
    "iterative_policy_evaluation(gw1, policy1, 0.5, 0.01)\n",
    "print(\"Values for the policy\")\n",
    "gw1.print_values()"
   ]
  },
  {
   "cell_type": "code",
   "execution_count": 84,
   "id": "oriental-copyright",
   "metadata": {},
   "outputs": [],
   "source": [
    "def iterative_policy_evaluation(gw, policy, gamma, epsilon, alpha):\n",
    "\n",
    "    while True:\n",
    "        biggest_change = 0\n",
    "        for node in gw:\n",
    "            state = node.state\n",
    "            if not gw.is_terminal(state) and not gw.is_barrier(state):\n",
    "                # get current (old) value\n",
    "                old_value = gw.get_value(state)\n",
    "                # get action from policy\n",
    "                action = policy[state]\n",
    "                # get immediate reward for action\n",
    "                reward = gw.get_reward_for_action(state, action)\n",
    "                # get value at destination state\n",
    "                value_at_dest = gw.get_value_at_destination(state, action)\n",
    "                # compute new value\n",
    "                new_value = alpha * (reward + gamma*value_at_dest)\n",
    "                # set new value for state\n",
    "                gw.set_value(state, new_value)\n",
    "                # see if |new_value-old_value| is larger than biggest_change\n",
    "                biggest_change = max(\n",
    "                    biggest_change, abs(new_value-old_value))\n",
    "        # iterated over all states, so see if biggest_change is small enough\n",
    "        if biggest_change < epsilon:\n",
    "            break"
   ]
  },
  {
   "cell_type": "code",
   "execution_count": 92,
   "id": "spread-religious",
   "metadata": {},
   "outputs": [
    {
     "name": "stdout",
     "output_type": "stream",
     "text": [
      "Values for the policy\n",
      "-------------------------------------\n",
      "|   0.48 |   0.59 |   0.73 |  -0.73 |\n",
      "-------------------------------------\n",
      "|   0.59 |   0.73 |   0.90 |  -0.90 |\n",
      "-------------------------------------\n",
      "|   0.48 |   0.00 |   0.00 |   0.00 |\n",
      "-------------------------------------\n",
      "|   0.59 |   0.73 |   0.90 |  -0.90 |\n",
      "-------------------------------------\n"
     ]
    }
   ],
   "source": [
    "iterative_policy_evaluation(\n",
    "    gw1, policy1, 0.9, 0.01, 0.9)\n",
    "print(\"Values for the policy\")\n",
    "gw1.print_values()"
   ]
  },
  {
   "cell_type": "code",
   "execution_count": null,
   "id": "negative-things",
   "metadata": {},
   "outputs": [],
   "source": []
  }
 ],
 "metadata": {
  "kernelspec": {
   "display_name": "Python 3",
   "language": "python",
   "name": "python3"
  },
  "language_info": {
   "codemirror_mode": {
    "name": "ipython",
    "version": 3
   },
   "file_extension": ".py",
   "mimetype": "text/x-python",
   "name": "python",
   "nbconvert_exporter": "python",
   "pygments_lexer": "ipython3",
   "version": "3.6.12"
  }
 },
 "nbformat": 4,
 "nbformat_minor": 5
}
