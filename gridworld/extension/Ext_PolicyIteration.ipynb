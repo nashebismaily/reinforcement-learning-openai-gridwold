{
 "cells": [
  {
   "cell_type": "code",
   "execution_count": 1,
   "id": "driven-margin",
   "metadata": {},
   "outputs": [],
   "source": [
    "from env import create_standard_grid, create_custom_grid_1, create_custom_grid_2\n",
    "from algorithms import iterative_policy_evaluation\n",
    "from algorithms import compute_policy_from_values\n"
   ]
  },
  {
   "cell_type": "code",
   "execution_count": 2,
   "id": "unlikely-shelter",
   "metadata": {},
   "outputs": [],
   "source": [
    "gw = create_custom_grid_1()"
   ]
  },
  {
   "cell_type": "code",
   "execution_count": 3,
   "id": "split-checklist",
   "metadata": {},
   "outputs": [],
   "source": [
    "policy = {\n",
    "    (0, 0): 'right', (0, 1): 'right', (0, 2): 'up', (0, 3): 'up',\n",
    "    (1, 0): 'up', (1, 1): '', (1, 2): '', (1, 3): '',\n",
    "    (2, 0): 'right', (2, 1): 'right', (2, 2): 'down', (2, 3): 'down',\n",
    "    (3, 0): 'right', (3, 1): 'right', (3, 2): 'down', (3, 3): 'down'\n",
    "}"
   ]
  },
  {
   "cell_type": "code",
   "execution_count": 34,
   "id": "cloudy-peace",
   "metadata": {},
   "outputs": [],
   "source": [
    "# from page 80 of Sutton and Barto, RL, 2nd. Ed.\n",
    "def policy_iteration(gw, policy, gamma=0.9, epsilon=0.001):\n",
    "    while True:\n",
    "        # perform iterative policy evaluation to update values\n",
    "        iterative_policy_evaluation(gw, policy, gamma, epsilon)\n",
    "        # update policy from new values\n",
    "        new_policy = compute_policy_from_values(gw, gamma)\n",
    "        # see if policy has changed\n",
    "        for action in policy:\n",
    "            if policy[action] == new_policy[action]:\n",
    "                policy_stable = True\n",
    "            else:\n",
    "                policy_stable = False\n",
    "                break\n",
    "        # update policy\n",
    "        policy = new_policy\n",
    "        # repeat until policy does not change\n",
    "        if policy_stable == True:\n",
    "            break"
   ]
  },
  {
   "cell_type": "code",
   "execution_count": 35,
   "id": "electoral-vacation",
   "metadata": {},
   "outputs": [],
   "source": [
    "def iterative_policy_evaluation(gw, policy, gamma=0, epsilon=0.001):    #print(gw)\n",
    "    #print(policy)\n",
    "    #print(gamma)\n",
    "    #print(epsilon)\n",
    "    while True:\n",
    "        biggest_change = 0\n",
    "        for node in gw:\n",
    "            state = node.state\n",
    "            if not gw.is_terminal(state) and not gw.is_barrier(state):\n",
    "                # get current (old) value\n",
    "                old_value = gw.get_value(state)\n",
    "                # get action from policy\n",
    "                action = policy[state]\n",
    "                # get immediate reward for action\n",
    "                reward = gw.get_reward_for_action(state, action)\n",
    "                # get value at destination state\n",
    "                value_at_dest = gw.get_value_at_destination(state, action)\n",
    "                # compute new value\n",
    "                #print(\"state: {}\".format(state))\n",
    "                #print(\"action: {}\".format(action))\n",
    "                #print(\"reward: {}\".format(reward))\n",
    "                #print(\"gamma: {}\".format(gamma))\n",
    "                #print(\"value_at_dest: {}\".format(value_at_dest))\n",
    "                new_value = (reward + gamma*value_at_dest)\n",
    "                #print(\"new_value: {}\".format(new_value))\n",
    "                # set new value for state\n",
    "                gw.set_value(state, new_value)\n",
    "                # see if |new_value-old_value| is larger than biggest_change\n",
    "                biggest_change = max(\n",
    "                    biggest_change, abs(new_value-old_value))\n",
    "        # iterated over all states, so see if biggest_change is small enough\n",
    "        if biggest_change < epsilon:\n",
    "            break"
   ]
  },
  {
   "cell_type": "code",
   "execution_count": 36,
   "id": "fourth-tender",
   "metadata": {},
   "outputs": [
    {
     "name": "stdout",
     "output_type": "stream",
     "text": [
      "Initial Policy\n",
      "-------------------------------------\n",
      "|  Right |  Right |   Down |   Down |\n",
      "-------------------------------------\n",
      "|  Right |  Right |   Down |   Down |\n",
      "-------------------------------------\n",
      "|     Up |        |        |        |\n",
      "-------------------------------------\n",
      "|  Right |  Right |     Up |     Up |\n",
      "-------------------------------------\n",
      "\n",
      "Initial Policy Values\n",
      "-------------------------------------\n",
      "|   0.73 |   0.81 |   0.90 |  -0.90 |\n",
      "-------------------------------------\n",
      "|   0.81 |   0.90 |   1.00 |  -1.00 |\n",
      "-------------------------------------\n",
      "|   0.73 |   0.00 |   0.00 |   0.00 |\n",
      "-------------------------------------\n",
      "|   0.81 |   0.90 |   1.00 |  -1.00 |\n",
      "-------------------------------------\n",
      "\n",
      "New Policy\n",
      "-------------------------------------\n",
      "|  Right |  Right |   Down |   Left |\n",
      "-------------------------------------\n",
      "|  Right |  Right |   Down |   Left |\n",
      "-------------------------------------\n",
      "|   Down |        |        |        |\n",
      "-------------------------------------\n",
      "|  Right |  Right |     Up |   Left |\n",
      "-------------------------------------\n",
      "\n",
      "New Policy Values\n",
      "-------------------------------------\n",
      "|   0.73 |   0.81 |   0.90 |   0.81 |\n",
      "-------------------------------------\n",
      "|   0.81 |   0.90 |   1.00 |   0.90 |\n",
      "-------------------------------------\n",
      "|   0.73 |   0.00 |   0.00 |   0.00 |\n",
      "-------------------------------------\n",
      "|   0.81 |   0.90 |   1.00 |   0.90 |\n",
      "-------------------------------------\n",
      "\n"
     ]
    }
   ],
   "source": [
    "#### print(\"\")\n",
    "print(\"Initial Policy\")\n",
    "gw.print_policy(policy)\n",
    "print(\"\")\n",
    "\n",
    "# note: this execution of iterative policy evaluation is not part \n",
    "# of the policy iteration algorithm.  It is for the purpose of \n",
    "# displaying the values associated with the input policy\n",
    "\n",
    "iterative_policy_evaluation(gw, policy)\n",
    "print(\"Initial Policy Values\")\n",
    "gw.print_values()\n",
    "\n",
    "# run policy iteration algorithm\n",
    "policy_iteration(gw, policy)\n",
    "# compute policy from optimal values\n",
    "new_policy = compute_policy_from_values(gw)\n",
    "\n",
    "#print new policy and values\n",
    "print(\"\") \n",
    "print(\"New Policy\")\n",
    "gw.print_policy(new_policy)\n",
    "print(\"\")\n",
    "print(\"New Policy Values\")\n",
    "gw.print_values()\n",
    "print(\"\")"
   ]
  },
  {
   "cell_type": "code",
   "execution_count": null,
   "id": "fuzzy-macintosh",
   "metadata": {},
   "outputs": [],
   "source": []
  }
 ],
 "metadata": {
  "kernelspec": {
   "display_name": "Python 3",
   "language": "python",
   "name": "python3"
  },
  "language_info": {
   "codemirror_mode": {
    "name": "ipython",
    "version": 3
   },
   "file_extension": ".py",
   "mimetype": "text/x-python",
   "name": "python",
   "nbconvert_exporter": "python",
   "pygments_lexer": "ipython3",
   "version": "3.6.12"
  }
 },
 "nbformat": 4,
 "nbformat_minor": 5
}
