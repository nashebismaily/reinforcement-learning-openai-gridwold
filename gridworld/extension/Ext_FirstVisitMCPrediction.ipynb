{
 "cells": [
  {
   "cell_type": "code",
   "execution_count": 1,
   "metadata": {},
   "outputs": [],
   "source": [
    "from env import create_standard_grid, create_custom_grid_1\n",
    "import numpy as np\n",
    "np.random.seed(42)"
   ]
  },
  {
   "cell_type": "code",
   "execution_count": 2,
   "metadata": {},
   "outputs": [],
   "source": [
    "def play_game(gw, policy, state=(0,0)):\n",
    "    # default game starting point is state = (0,0) \n",
    "    # list of tuples that are (state, reward) pairs\n",
    " #   states_and_rewards = [(state,0)] # list of tuples that are (state, reward) pairs\n",
    "    states_and_rewards = [] # list of tuples that are (state, reward) pairs\n",
    "    converged = False\n",
    "    while not converged:\n",
    "        # get action from policy\n",
    "        action = policy[state] # get action from policy\n",
    "        # find reward for the action\n",
    "        reward = gw.get_reward_for_action(state, action)\n",
    "        # more to the new state\n",
    "        stateprime = move(state,action)\n",
    "        # add new state and reward to the list\n",
    "        states_and_rewards.append((state,reward))\n",
    "        # if you have moved to a terminal state, then stop\n",
    "        if gw.is_terminal(stateprime):\n",
    "            converged = True\n",
    "        # update state to new state\n",
    "        state = stateprime\n",
    "    return states_and_rewards\n",
    "\n",
    "def move(state, action): # only valid actions at states are sent to move\n",
    "    i,j = state\n",
    "    if action == 'left':\n",
    "        j = j-1\n",
    "    if action == 'right':\n",
    "        j = j+1\n",
    "    if action == 'down':\n",
    "        i = i-1\n",
    "    if action == 'up':\n",
    "        i = i+1\n",
    "    return (i,j)"
   ]
  },
  {
   "cell_type": "code",
   "execution_count": 3,
   "metadata": {},
   "outputs": [],
   "source": [
    "gw = create_custom_grid_1()"
   ]
  },
  {
   "cell_type": "code",
   "execution_count": 4,
   "metadata": {},
   "outputs": [],
   "source": [
    "policy = {\n",
    "    (0, 0): 'right', (0, 1): 'right', (0, 2): 'up', (0, 3): 'left',\n",
    "    (1, 0): 'down', (1, 1): '', (1, 2): '', (1, 3): '',\n",
    "    (2, 0): 'right', (2, 1): 'right', (2, 2): 'down', (2, 3): 'left',\n",
    "    (3, 0): 'right', (3, 1): 'right', (3, 2): 'down', (3, 3): 'left'\n",
    "}"
   ]
  },
  {
   "cell_type": "code",
   "execution_count": 59,
   "metadata": {},
   "outputs": [],
   "source": [
    "gamma = 0.5\n",
    "all_states = [\n",
    "            (0,0), (0,1) ,(0,2), (0,3),\n",
    "            (1,0), (1,1), (1,2), (1,3),\n",
    "            (2,0), (2,1), (2,2), (2,3),\n",
    "            (3,0), (3,1), (3,2), (3,3)\n",
    "]"
   ]
  },
  {
   "cell_type": "code",
   "execution_count": 60,
   "metadata": {},
   "outputs": [],
   "source": [
    "states_and_rewards = play_game(gw, policy)"
   ]
  },
  {
   "cell_type": "code",
   "execution_count": 61,
   "metadata": {},
   "outputs": [
    {
     "data": {
      "text/plain": [
       "[((0, 0), 0.0), ((0, 1), 0.0), ((0, 2), 1.0)]"
      ]
     },
     "execution_count": 61,
     "metadata": {},
     "output_type": "execute_result"
    }
   ],
   "source": [
    "states_and_rewards"
   ]
  },
  {
   "cell_type": "code",
   "execution_count": 62,
   "metadata": {},
   "outputs": [],
   "source": [
    "G = 0\n",
    "states_and_returns = []\n",
    "for s, r in reversed(states_and_rewards):\n",
    "    G = r + gamma*G\n",
    "    states_and_returns.append((s,G))\n",
    "states_and_returns.reverse()"
   ]
  },
  {
   "cell_type": "code",
   "execution_count": 63,
   "metadata": {},
   "outputs": [
    {
     "data": {
      "text/plain": [
       "[((0, 0), 0.25), ((0, 1), 0.5), ((0, 2), 1.0)]"
      ]
     },
     "execution_count": 63,
     "metadata": {},
     "output_type": "execute_result"
    }
   ],
   "source": [
    "states_and_returns"
   ]
  },
  {
   "cell_type": "code",
   "execution_count": 64,
   "metadata": {},
   "outputs": [],
   "source": [
    "returns = {}\n",
    "for s in all_states:\n",
    "    returns[s] = []\n",
    "    \n",
    "seen_states = set()\n",
    "for s, G in states_and_returns:\n",
    "    if s not in seen_states:\n",
    "        returns[s].append(G)\n",
    "        gw.set_value(s, np.mean(returns[s]))\n",
    "        seen_states.add(s)      "
   ]
  },
  {
   "cell_type": "code",
   "execution_count": 65,
   "metadata": {},
   "outputs": [
    {
     "name": "stdout",
     "output_type": "stream",
     "text": [
      "-------------------------------------\n",
      "|   0.00 |   0.01 |   0.10 |   0.01 |\n",
      "-------------------------------------\n",
      "|   0.01 |   0.10 |   1.00 |   0.10 |\n",
      "-------------------------------------\n",
      "|   0.00 |   0.00 |   0.00 |   0.00 |\n",
      "-------------------------------------\n",
      "|   0.25 |   0.50 |   1.00 |   0.10 |\n",
      "-------------------------------------\n"
     ]
    }
   ],
   "source": [
    "gw.print_values()"
   ]
  },
  {
   "cell_type": "code",
   "execution_count": 66,
   "metadata": {},
   "outputs": [],
   "source": [
    "num_episodes = 100\n",
    "for t in range(num_episodes):\n",
    "    states_and_rewards = play_game(gw, policy)\n",
    "    G = 0\n",
    "    states_and_returns = []\n",
    "    for s, r in reversed(states_and_rewards):\n",
    "        G = r + gamma*G\n",
    "        states_and_returns.append((s,G))\n",
    "    states_and_returns.reverse()\n",
    "    \n",
    "    returns = {}\n",
    "    for s in all_states:\n",
    "        returns[s] = []\n",
    "    \n",
    "    seen_states = set()\n",
    "    for s, G in states_and_returns:\n",
    "        if s not in seen_states:\n",
    "            returns[s].append(G)\n",
    "            gw.set_value(s, np.mean(returns[s]))\n",
    "            seen_states.add(s)  "
   ]
  },
  {
   "cell_type": "code",
   "execution_count": 67,
   "metadata": {},
   "outputs": [
    {
     "name": "stdout",
     "output_type": "stream",
     "text": [
      "-------------------------------------\n",
      "|   0.00 |   0.01 |   0.10 |   0.01 |\n",
      "-------------------------------------\n",
      "|   0.01 |   0.10 |   1.00 |   0.10 |\n",
      "-------------------------------------\n",
      "|   0.00 |   0.00 |   0.00 |   0.00 |\n",
      "-------------------------------------\n",
      "|   0.25 |   0.50 |   1.00 |   0.10 |\n",
      "-------------------------------------\n"
     ]
    }
   ],
   "source": [
    "gw.print_values()"
   ]
  },
  {
   "cell_type": "code",
   "execution_count": 68,
   "metadata": {},
   "outputs": [],
   "source": [
    "num_episodes = 100\n",
    "\n",
    "for t in range(num_episodes):\n",
    "    \n",
    "    # select a random index in the list of all states\n",
    "    random_indx = np.random.randint(0,len(all_states)) \n",
    "    # get the state \n",
    "    state = all_states[random_indx]\n",
    "    # if the selected random state is a barrier state or a terminal state, then do it again\n",
    "    while(gw.is_barrier(state) or gw.is_terminal(state)):\n",
    "        random_indx = np.random.randint(0,len(all_states))\n",
    "        state = all_states[random_indx]  \n",
    "        \n",
    "    # play the game from the selected state\n",
    "    states_and_rewards = play_game(gw, policy, state=state)\n",
    "    \n",
    "    # compute states_and_returns\n",
    "    G = 0\n",
    "    states_and_returns = []\n",
    "    for s, r in reversed(states_and_rewards):\n",
    "        G = r + gamma*G\n",
    "        states_and_returns.append((s,G))\n",
    "    states_and_returns.reverse()\n",
    "    \n",
    "    # initialize the returns dictionary\n",
    "    returns = {}\n",
    "    for s in all_states:\n",
    "        returns[s] = []\n",
    "    \n",
    "    # perform rest of calculation on the \n",
    "    seen_states = set()\n",
    "    for s, G in states_and_returns:\n",
    "        if s not in seen_states:\n",
    "            returns[s].append(G)\n",
    "            gw.set_value(s, np.mean(returns[s]))\n",
    "            seen_states.add(s)  "
   ]
  },
  {
   "cell_type": "code",
   "execution_count": 69,
   "metadata": {},
   "outputs": [
    {
     "name": "stdout",
     "output_type": "stream",
     "text": [
      "-------------------------------------\n",
      "|   0.12 |   0.25 |   0.50 |   0.25 |\n",
      "-------------------------------------\n",
      "|   0.25 |   0.50 |   1.00 |   0.50 |\n",
      "-------------------------------------\n",
      "|   0.12 |   0.00 |   0.00 |   0.00 |\n",
      "-------------------------------------\n",
      "|   0.25 |   0.50 |   1.00 |   0.50 |\n",
      "-------------------------------------\n"
     ]
    }
   ],
   "source": [
    "gw.print_values()"
   ]
  },
  {
   "cell_type": "code",
   "execution_count": null,
   "metadata": {},
   "outputs": [],
   "source": []
  }
 ],
 "metadata": {
  "kernelspec": {
   "display_name": "Python 3",
   "language": "python",
   "name": "python3"
  },
  "language_info": {
   "codemirror_mode": {
    "name": "ipython",
    "version": 3
   },
   "file_extension": ".py",
   "mimetype": "text/x-python",
   "name": "python",
   "nbconvert_exporter": "python",
   "pygments_lexer": "ipython3",
   "version": "3.6.12"
  }
 },
 "nbformat": 4,
 "nbformat_minor": 4
}
