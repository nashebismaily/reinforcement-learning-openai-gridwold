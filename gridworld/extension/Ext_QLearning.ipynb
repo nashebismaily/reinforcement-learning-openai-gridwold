{
 "cells": [
  {
   "cell_type": "markdown",
   "metadata": {},
   "source": [
    "#### Sutton and Barto, Reinforcement Learning 2nd. Edition, page 130.\n",
    "![Sutton and Barto, Reinforcement Learning 2nd. Edition.](./QLearning.png)"
   ]
  },
  {
   "cell_type": "markdown",
   "metadata": {},
   "source": [
    "Q-learning (off-policy TD control) for estimating π"
   ]
  },
  {
   "cell_type": "code",
   "execution_count": 1,
   "metadata": {},
   "outputs": [],
   "source": [
    "import numpy as np\n",
    "from env import create_standard_grid, create_custom_grid_1"
   ]
  },
  {
   "cell_type": "markdown",
   "metadata": {},
   "source": [
    "code to play game and return Q values -- Q(state,action)"
   ]
  },
  {
   "cell_type": "code",
   "execution_count": 2,
   "metadata": {},
   "outputs": [],
   "source": [
    "def play_game(gw, Q):\n",
    "    \n",
    "    epsilon = 0.99 # probability of exploration\n",
    "    gamma = 0.9 # discount factor for future rewards\n",
    "    alpha = 0.99 # Q update fraction\n",
    "\n",
    "    # game starting state\n",
    "    state = (0, 0)\n",
    "    converged = False\n",
    "    while not converged:\n",
    "        # select best action at the state\n",
    "        action, _ = max_dict(Q[state])\n",
    "        # get all valid actions at the state\n",
    "        all_actions = gw.valid_decisions(state)\n",
    "        # choose a random action with probability epsilon\n",
    "        action = random_action(action, all_actions, epsilon)\n",
    "        # get reward for action\n",
    "        reward = gw.get_reward_for_action(state, action)\n",
    "        stateprime = move(state, action)\n",
    "        iprime, jprime = stateprime\n",
    "        if not gw.is_terminal(stateprime):\n",
    "            _, destvalue = max_dict(Q[stateprime])\n",
    "            Q[state][action] = Q[state][action] + alpha*(reward + gamma*destvalue - Q[state][action])\n",
    "            state = stateprime\n",
    "        if gw.is_terminal(stateprime):\n",
    "            Q[state][action] = Q[state][action] + alpha*(reward - Q[state][action]) \n",
    "            converged = True\n",
    "    return Q\n",
    "\n",
    "def move(state, action):  # only valid actions at states are sent to move\n",
    "    i, j = state\n",
    "    if action == 'left':\n",
    "        j = j-1\n",
    "    if action == 'right':\n",
    "        j = j+1\n",
    "    if action == 'down':\n",
    "        i = i-1\n",
    "    if action == 'up':\n",
    "        i = i+1\n",
    "    return (i, j)\n",
    "\n",
    "def random_action(action, all_actions, epsilon):\n",
    "    p = np.random.random_sample()\n",
    "    if p < (1 - epsilon):\n",
    "        return action\n",
    "    else:\n",
    "        return np.random.choice(all_actions)\n",
    "\n",
    "def max_dict(d):\n",
    "    # returns the argmax (key) and max (value) from a dictionary\n",
    "    # put this into a function since we are using it so often\n",
    "    max_key = None\n",
    "    max_val = float('-inf')\n",
    "    for k, v in d.items():\n",
    "        if v > max_val:\n",
    "            max_val = v\n",
    "            max_key = k\n",
    "    return max_key, max_val\n",
    "\n",
    "def init_Q(gw):\n",
    "    # initialize Q values\n",
    "    Q = {}\n",
    "    for i in range(0, gw.M):\n",
    "        for j in range(0, gw.N):\n",
    "            state = (i,j)\n",
    "            if not gw.is_barrier(state) and not gw.is_terminal(state):\n",
    "                Q[state] = {}\n",
    "                all_actions = gw.valid_decisions(state)\n",
    "                for a in all_actions:\n",
    "                    Q[state][a] = 0\n",
    "    return Q\n"
   ]
  },
  {
   "cell_type": "markdown",
   "metadata": {},
   "source": [
    "Create the standard grid"
   ]
  },
  {
   "cell_type": "code",
   "execution_count": 3,
   "metadata": {},
   "outputs": [],
   "source": [
    "gw = create_custom_grid_1()"
   ]
  },
  {
   "cell_type": "markdown",
   "metadata": {},
   "source": [
    "Initialize the Q dictionary"
   ]
  },
  {
   "cell_type": "code",
   "execution_count": 4,
   "metadata": {},
   "outputs": [],
   "source": [
    "Q = init_Q( gw )"
   ]
  },
  {
   "cell_type": "markdown",
   "metadata": {},
   "source": [
    "See what is in the initial Q dictionary"
   ]
  },
  {
   "cell_type": "code",
   "execution_count": 5,
   "metadata": {},
   "outputs": [
    {
     "data": {
      "text/plain": [
       "{(0, 0): {'right': 0, 'up': 0},\n",
       " (0, 1): {'left': 0, 'right': 0},\n",
       " (0, 2): {'left': 0, 'right': 0, 'up': 0},\n",
       " (0, 3): {'left': 0, 'up': 0},\n",
       " (1, 0): {'down': 0, 'up': 0},\n",
       " (2, 0): {'right': 0, 'down': 0, 'up': 0},\n",
       " (2, 1): {'left': 0, 'right': 0, 'up': 0},\n",
       " (2, 2): {'left': 0, 'right': 0, 'down': 0, 'up': 0},\n",
       " (2, 3): {'left': 0, 'down': 0, 'up': 0},\n",
       " (3, 0): {'right': 0, 'down': 0},\n",
       " (3, 1): {'left': 0, 'right': 0, 'down': 0},\n",
       " (3, 2): {'left': 0, 'right': 0, 'down': 0},\n",
       " (3, 3): {'left': 0, 'down': 0}}"
      ]
     },
     "execution_count": 5,
     "metadata": {},
     "output_type": "execute_result"
    }
   ],
   "source": [
    "Q"
   ]
  },
  {
   "cell_type": "markdown",
   "metadata": {},
   "source": [
    "Play one iteration of the game"
   ]
  },
  {
   "cell_type": "code",
   "execution_count": 6,
   "metadata": {},
   "outputs": [],
   "source": [
    "Q = play_game(gw, Q)"
   ]
  },
  {
   "cell_type": "markdown",
   "metadata": {},
   "source": [
    "See what the Q values are"
   ]
  },
  {
   "cell_type": "code",
   "execution_count": 7,
   "metadata": {},
   "outputs": [
    {
     "data": {
      "text/plain": [
       "{(0, 0): {'right': 0, 'up': 0.0},\n",
       " (0, 1): {'left': 0, 'right': 0},\n",
       " (0, 2): {'left': 0, 'right': 0, 'up': 0},\n",
       " (0, 3): {'left': 0, 'up': 0},\n",
       " (1, 0): {'down': 0.0, 'up': 0.0},\n",
       " (2, 0): {'right': 0, 'down': 0, 'up': 0.0},\n",
       " (2, 1): {'left': 0, 'right': 0.0, 'up': 0},\n",
       " (2, 2): {'left': 0, 'right': 0, 'down': 0.99, 'up': 0},\n",
       " (2, 3): {'left': 0, 'down': 0, 'up': 0},\n",
       " (3, 0): {'right': 0.0, 'down': 0},\n",
       " (3, 1): {'left': 0, 'right': 0.0, 'down': 0.0},\n",
       " (3, 2): {'left': 0.0, 'right': 0.0, 'down': 0},\n",
       " (3, 3): {'left': 0.0, 'down': 0}}"
      ]
     },
     "execution_count": 7,
     "metadata": {},
     "output_type": "execute_result"
    }
   ],
   "source": [
    "Q"
   ]
  },
  {
   "cell_type": "markdown",
   "metadata": {},
   "source": [
    "Play another iteration of the game and see what the Q values are"
   ]
  },
  {
   "cell_type": "code",
   "execution_count": 8,
   "metadata": {},
   "outputs": [],
   "source": [
    "Q = play_game(gw, Q)"
   ]
  },
  {
   "cell_type": "code",
   "execution_count": 9,
   "metadata": {},
   "outputs": [
    {
     "data": {
      "text/plain": [
       "{(0, 0): {'right': 0.0, 'up': 0.0},\n",
       " (0, 1): {'left': 0.0, 'right': 0.0},\n",
       " (0, 2): {'left': 0, 'right': 0, 'up': 0.99},\n",
       " (0, 3): {'left': 0, 'up': 0},\n",
       " (1, 0): {'down': 0.0, 'up': 0.0},\n",
       " (2, 0): {'right': 0, 'down': 0, 'up': 0.0},\n",
       " (2, 1): {'left': 0, 'right': 0.0, 'up': 0},\n",
       " (2, 2): {'left': 0, 'right': 0, 'down': 0.99, 'up': 0},\n",
       " (2, 3): {'left': 0, 'down': 0, 'up': 0},\n",
       " (3, 0): {'right': 0.0, 'down': 0},\n",
       " (3, 1): {'left': 0, 'right': 0.0, 'down': 0.0},\n",
       " (3, 2): {'left': 0.0, 'right': 0.0, 'down': 0},\n",
       " (3, 3): {'left': 0.0, 'down': 0}}"
      ]
     },
     "execution_count": 9,
     "metadata": {},
     "output_type": "execute_result"
    }
   ],
   "source": [
    "Q"
   ]
  },
  {
   "cell_type": "markdown",
   "metadata": {},
   "source": [
    "Play the game 10000 times and see what the Q values are"
   ]
  },
  {
   "cell_type": "code",
   "execution_count": 16,
   "metadata": {},
   "outputs": [],
   "source": [
    "for _ in range(10000):\n",
    "    Q = play_game(gw, Q)"
   ]
  },
  {
   "cell_type": "code",
   "execution_count": 17,
   "metadata": {},
   "outputs": [
    {
     "data": {
      "text/plain": [
       "{(0, 0): {'right': 0.81, 'up': 0.6561000000000001},\n",
       " (0, 1): {'left': 0.7290000000000001, 'right': 0.9},\n",
       " (0, 2): {'left': 0.81, 'right': 0.81, 'up': 1.0},\n",
       " (0, 3): {'left': 0.9, 'up': -1.0},\n",
       " (1, 0): {'down': 0.7290000000000001, 'up': 0.7290000000000001},\n",
       " (2, 0): {'right': 0.81, 'down': 0.6561000000000001, 'up': 0.6561000000000001},\n",
       " (2, 1): {'left': 0.7290000000000001, 'right': 0.9, 'up': 0.7290000000000001},\n",
       " (2, 2): {'left': 0.81, 'right': 0.81, 'down': 1.0, 'up': 0.81},\n",
       " (2, 3): {'left': 0.9, 'down': -1.0, 'up': 0.7290000000000001},\n",
       " (3, 0): {'right': 0.7290000000000001, 'down': 0.7290000000000001},\n",
       " (3, 1): {'left': 0.6561000000000001, 'right': 0.81, 'down': 0.81},\n",
       " (3, 2): {'left': 0.7290000000000001,\n",
       "  'right': 0.7290000000000001,\n",
       "  'down': 0.9},\n",
       " (3, 3): {'left': 0.81, 'down': 0.81}}"
      ]
     },
     "execution_count": 17,
     "metadata": {},
     "output_type": "execute_result"
    }
   ],
   "source": [
    "Q"
   ]
  },
  {
   "cell_type": "markdown",
   "metadata": {},
   "source": [
    "Extract values and policy from the Q table"
   ]
  },
  {
   "cell_type": "code",
   "execution_count": 12,
   "metadata": {},
   "outputs": [],
   "source": [
    "policy = {}\n",
    "for i in range(gw.M):\n",
    "    for j in range(gw.N):\n",
    "        state = (i,j)\n",
    "        if gw.is_barrier(state):\n",
    "            policy[state] = ''\n",
    "        if gw.is_terminal(state):\n",
    "            policy[state] = ''\n",
    "        if not gw.is_barrier(state) and not gw.is_terminal(state):\n",
    "            action, value = max_dict(Q[state])\n",
    "            gw.set_value(state, value)\n",
    "            policy[state] = action"
   ]
  },
  {
   "cell_type": "code",
   "execution_count": 13,
   "metadata": {},
   "outputs": [
    {
     "name": "stdout",
     "output_type": "stream",
     "text": [
      "-------------------------------------\n",
      "|   0.73 |   0.81 |   0.90 |   0.81 |\n",
      "-------------------------------------\n",
      "|   0.81 |   0.90 |   1.00 |   0.90 |\n",
      "-------------------------------------\n",
      "|   0.73 |   0.00 |   0.00 |   0.00 |\n",
      "-------------------------------------\n",
      "|   0.81 |   0.90 |   1.00 |   0.90 |\n",
      "-------------------------------------\n",
      "-------------------------------------\n",
      "|  Right |  Right |   Down |   Left |\n",
      "-------------------------------------\n",
      "|  Right |  Right |   Down |   Left |\n",
      "-------------------------------------\n",
      "|   Down |        |        |        |\n",
      "-------------------------------------\n",
      "|  Right |  Right |     Up |   Left |\n",
      "-------------------------------------\n"
     ]
    }
   ],
   "source": [
    "gw.print_values()\n",
    "gw.print_policy(policy)"
   ]
  },
  {
   "cell_type": "code",
   "execution_count": null,
   "metadata": {},
   "outputs": [],
   "source": []
  }
 ],
 "metadata": {
  "kernelspec": {
   "display_name": "Python 3",
   "language": "python",
   "name": "python3"
  },
  "language_info": {
   "codemirror_mode": {
    "name": "ipython",
    "version": 3
   },
   "file_extension": ".py",
   "mimetype": "text/x-python",
   "name": "python",
   "nbconvert_exporter": "python",
   "pygments_lexer": "ipython3",
   "version": "3.6.12"
  }
 },
 "nbformat": 4,
 "nbformat_minor": 4
}
