{
 "cells": [
  {
   "cell_type": "markdown",
   "id": "permanent-devices",
   "metadata": {},
   "source": [
    "#### Sutton and Barto, Reinforcement Learning 2nd. Edition, page 92.\n",
    "![Sutton and Barto, Reinforcement Learning 2nd. Edition.](./FirstVisitMCPrediction.png)"
   ]
  },
  {
   "cell_type": "markdown",
   "id": "isolated-picking",
   "metadata": {},
   "source": [
    "First-visit MC prediction, for estimating V"
   ]
  },
  {
   "cell_type": "code",
   "execution_count": 1,
   "id": "understanding-harvey",
   "metadata": {
    "tags": []
   },
   "outputs": [],
   "source": [
    "from env import create_standard_grid\n",
    "import numpy as np\n",
    "np.random.seed(42)"
   ]
  },
  {
   "cell_type": "markdown",
   "id": "friendly-thanks",
   "metadata": {},
   "source": [
    "This function plays the game. It return the states that were visited and the rewards received."
   ]
  },
  {
   "cell_type": "code",
   "execution_count": 2,
   "id": "accessible-disposal",
   "metadata": {
    "tags": []
   },
   "outputs": [],
   "source": [
    "def play_game(gw, policy, state=(0,0)):\n",
    "    # default game starting point is state = (0,0) \n",
    "    # list of tuples that are (state, reward) pairs\n",
    " #   states_and_rewards = [(state,0)] # list of tuples that are (state, reward) pairs\n",
    "    states_and_rewards = [] # list of tuples that are (state, reward) pairs\n",
    "    converged = False\n",
    "    while not converged:\n",
    "        # get action from policy\n",
    "        action = policy[state] # get action from policy\n",
    "        # find reward for the action\n",
    "        reward = gw.get_reward_for_action(state, action)\n",
    "        # more to the new state\n",
    "        stateprime = move(state,action)\n",
    "        # add new state and reward to the list\n",
    "        states_and_rewards.append((state,reward))\n",
    "        # if you have moved to a terminal state, then stop\n",
    "        if gw.is_terminal(stateprime):\n",
    "            converged = True\n",
    "        # update state to new state\n",
    "        state = stateprime\n",
    "    return states_and_rewards\n",
    "\n",
    "def move(state, action): # only valid actions at states are sent to move\n",
    "    i,j = state\n",
    "    if action == 'left':\n",
    "        j = j-1\n",
    "    if action == 'right':\n",
    "        j = j+1\n",
    "    if action == 'down':\n",
    "        i = i-1\n",
    "    if action == 'up':\n",
    "        i = i+1\n",
    "    return (i,j)"
   ]
  },
  {
   "cell_type": "markdown",
   "id": "detected-minority",
   "metadata": {},
   "source": [
    "Create the standard grid"
   ]
  },
  {
   "cell_type": "code",
   "execution_count": 3,
   "id": "worth-faith",
   "metadata": {
    "tags": []
   },
   "outputs": [],
   "source": [
    "gw = create_standard_grid()"
   ]
  },
  {
   "cell_type": "markdown",
   "id": "valid-invasion",
   "metadata": {},
   "source": [
    "Input policy to be evaluated"
   ]
  },
  {
   "cell_type": "code",
   "execution_count": 4,
   "id": "express-geography",
   "metadata": {
    "tags": []
   },
   "outputs": [],
   "source": [
    "policy = { \n",
    "    (0,0):'up', (0,1):'right',(0,2):'right',(0,3):'up',\n",
    "    (1,0):'up', (1,1):'', (1,2):'right', (1,3):'',\n",
    "    (2,0):'right', (2,1):'right', (2,2):'right', (2,3):''\n",
    "    }"
   ]
  },
  {
   "cell_type": "markdown",
   "id": "tired-brooklyn",
   "metadata": {},
   "source": [
    "Initialize some thing for the calculation"
   ]
  },
  {
   "cell_type": "markdown",
   "id": "impaired-bumper",
   "metadata": {},
   "source": [
    "- Specify a discount factor - gamma\n",
    "- Need a list of all states that we will use for computing returns"
   ]
  },
  {
   "cell_type": "code",
   "execution_count": 5,
   "id": "known-utility",
   "metadata": {},
   "outputs": [],
   "source": [
    "gamma = 0.9\n",
    "all_states = [\n",
    "            (0,0), (0,1) ,(0,2), (0,3),\n",
    "            (1,0), (1,1), (1,2), (1,3),\n",
    "            (2,0), (2,1), (2,2), (2,3)\n",
    "]"
   ]
  },
  {
   "cell_type": "markdown",
   "id": "personalized-crash",
   "metadata": {},
   "source": [
    "### 1"
   ]
  },
  {
   "cell_type": "markdown",
   "id": "connected-poker",
   "metadata": {},
   "source": [
    "Play a single episode of the game "
   ]
  },
  {
   "cell_type": "code",
   "execution_count": 6,
   "id": "adequate-contents",
   "metadata": {
    "tags": []
   },
   "outputs": [],
   "source": [
    "states_and_rewards = play_game(gw, policy)"
   ]
  },
  {
   "cell_type": "markdown",
   "id": "burning-juvenile",
   "metadata": {
    "tags": []
   },
   "source": [
    "Examine states_and_rewards list. Note states and rewards in the list."
   ]
  },
  {
   "cell_type": "code",
   "execution_count": 7,
   "id": "bulgarian-situation",
   "metadata": {
    "tags": []
   },
   "outputs": [
    {
     "data": {
      "text/plain": [
       "[((0, 0), 0.0), ((1, 0), 0.0), ((2, 0), 0.0), ((2, 1), 0.0), ((2, 2), 1.0)]"
      ]
     },
     "execution_count": 7,
     "metadata": {},
     "output_type": "execute_result"
    }
   ],
   "source": [
    "states_and_rewards"
   ]
  },
  {
   "cell_type": "markdown",
   "id": "solid-european",
   "metadata": {},
   "source": [
    "Compute G values from states_and_rewards - **(Note there are two lists - states_and_rewards and states_and_returns)**"
   ]
  },
  {
   "cell_type": "code",
   "execution_count": 8,
   "id": "incomplete-motel",
   "metadata": {
    "tags": []
   },
   "outputs": [],
   "source": [
    "G = 0\n",
    "states_and_returns = []\n",
    "for s, r in reversed(states_and_rewards):\n",
    "    G = r + gamma*G\n",
    "    states_and_returns.append((s,G))\n",
    "states_and_returns.reverse()"
   ]
  },
  {
   "cell_type": "markdown",
   "id": "urban-cleaner",
   "metadata": {},
   "source": [
    "Look at the states_and_returns list of lists"
   ]
  },
  {
   "cell_type": "code",
   "execution_count": 9,
   "id": "colonial-question",
   "metadata": {},
   "outputs": [
    {
     "data": {
      "text/plain": [
       "[((0, 0), 0.6561000000000001),\n",
       " ((1, 0), 0.7290000000000001),\n",
       " ((2, 0), 0.81),\n",
       " ((2, 1), 0.9),\n",
       " ((2, 2), 1.0)]"
      ]
     },
     "execution_count": 9,
     "metadata": {},
     "output_type": "execute_result"
    }
   ],
   "source": [
    "states_and_returns"
   ]
  },
  {
   "cell_type": "markdown",
   "id": "automated-begin",
   "metadata": {},
   "source": [
    "The seen_sets variable keeps a list of states insuring that ony the first G value is used in the calculation"
   ]
  },
  {
   "cell_type": "code",
   "execution_count": 16,
   "id": "organized-analyst",
   "metadata": {},
   "outputs": [],
   "source": [
    "returns = {}\n",
    "for s in all_states:\n",
    "    returns[s] = []\n",
    "    \n",
    "seen_states = set()\n",
    "for s, G in states_and_returns:\n",
    "    if s not in seen_states:\n",
    "        returns[s].append(G)\n",
    "        gw.set_value(s, np.mean(returns[s]))\n",
    "        seen_states.add(s)      "
   ]
  },
  {
   "cell_type": "code",
   "execution_count": 17,
   "id": "compressed-accommodation",
   "metadata": {},
   "outputs": [
    {
     "name": "stdout",
     "output_type": "stream",
     "text": [
      "-------------------------------------\n",
      "|   0.81 |   0.90 |   1.00 |   0.00 |\n",
      "-------------------------------------\n",
      "|   0.73 |   0.00 |  -1.00 |   0.00 |\n",
      "-------------------------------------\n",
      "|   0.66 |   0.00 |  -0.90 |  -1.00 |\n",
      "-------------------------------------\n"
     ]
    }
   ],
   "source": [
    "gw.print_values()"
   ]
  },
  {
   "cell_type": "markdown",
   "id": "marine-street",
   "metadata": {},
   "source": [
    "## 2"
   ]
  },
  {
   "cell_type": "markdown",
   "id": "instrumental-component",
   "metadata": {},
   "source": [
    "Repeatedly play the game ten times"
   ]
  },
  {
   "cell_type": "code",
   "execution_count": 18,
   "id": "recognized-pacific",
   "metadata": {},
   "outputs": [],
   "source": [
    "num_episodes = 10\n",
    "for t in range(num_episodes):\n",
    "    states_and_rewards = play_game(gw, policy)\n",
    "    G = 0\n",
    "    states_and_returns = []\n",
    "    for s, r in reversed(states_and_rewards):\n",
    "        G = r + gamma*G\n",
    "        states_and_returns.append((s,G))\n",
    "    states_and_returns.reverse()\n",
    "    \n",
    "    returns = {}\n",
    "    for s in all_states:\n",
    "        returns[s] = []\n",
    "    \n",
    "    seen_states = set()\n",
    "    for s, G in states_and_returns:\n",
    "        if s not in seen_states:\n",
    "            returns[s].append(G)\n",
    "            gw.set_value(s, np.mean(returns[s]))\n",
    "            seen_states.add(s)  "
   ]
  },
  {
   "cell_type": "code",
   "execution_count": 19,
   "id": "saved-throat",
   "metadata": {
    "tags": []
   },
   "outputs": [
    {
     "name": "stdout",
     "output_type": "stream",
     "text": [
      "-------------------------------------\n",
      "|   0.81 |   0.90 |   1.00 |   0.00 |\n",
      "-------------------------------------\n",
      "|   0.73 |   0.00 |  -1.00 |   0.00 |\n",
      "-------------------------------------\n",
      "|   0.66 |   0.00 |  -0.90 |  -1.00 |\n",
      "-------------------------------------\n"
     ]
    }
   ],
   "source": [
    "gw.print_values()"
   ]
  },
  {
   "cell_type": "markdown",
   "id": "criminal-particular",
   "metadata": {},
   "source": [
    "Since the grid and policy are deterministic that same thing happens 10 times. "
   ]
  },
  {
   "cell_type": "markdown",
   "id": "pediatric-luxembourg",
   "metadata": {},
   "source": [
    "## 3"
   ]
  },
  {
   "cell_type": "markdown",
   "id": "cross-label",
   "metadata": {},
   "source": [
    "To explore all potential paths pick a random starting point in the grid and play the game from that point to a terminal state."
   ]
  },
  {
   "cell_type": "code",
   "execution_count": 14,
   "id": "photographic-colleague",
   "metadata": {},
   "outputs": [],
   "source": [
    "num_episodes = 10\n",
    "\n",
    "for t in range(num_episodes):\n",
    "    \n",
    "    # select a random index in the list of all states\n",
    "    random_indx = np.random.randint(0,len(all_states)) \n",
    "    # get the state \n",
    "    state = all_states[random_indx]\n",
    "    # if the selected random state is a barrier state or a terminal state, then do it again\n",
    "    while(gw.is_barrier(state) or gw.is_terminal(state)):\n",
    "        random_indx = np.random.randint(0,len(all_states))\n",
    "        state = all_states[random_indx]  \n",
    "        \n",
    "    # play the game from the selected state\n",
    "    states_and_rewards = play_game(gw, policy, state=state)\n",
    "    \n",
    "    # compute states_and_returns\n",
    "    G = 0\n",
    "    states_and_returns = []\n",
    "    for s, r in reversed(states_and_rewards):\n",
    "        G = r + gamma*G\n",
    "        states_and_returns.append((s,G))\n",
    "    states_and_returns.reverse()\n",
    "    \n",
    "    # initialize the returns dictionary\n",
    "    returns = {}\n",
    "    for s in all_states:\n",
    "        returns[s] = []\n",
    "    \n",
    "    # perform rest of calculation on the \n",
    "    seen_states = set()\n",
    "    for s, G in states_and_returns:\n",
    "        if s not in seen_states:\n",
    "            returns[s].append(G)\n",
    "            gw.set_value(s, np.mean(returns[s]))\n",
    "            seen_states.add(s)  "
   ]
  },
  {
   "cell_type": "code",
   "execution_count": 15,
   "id": "chicken-fleece",
   "metadata": {},
   "outputs": [
    {
     "name": "stdout",
     "output_type": "stream",
     "text": [
      "-------------------------------------\n",
      "|   0.81 |   0.90 |   1.00 |   0.00 |\n",
      "-------------------------------------\n",
      "|   0.73 |   0.00 |  -1.00 |   0.00 |\n",
      "-------------------------------------\n",
      "|   0.66 |   0.00 |  -0.90 |  -1.00 |\n",
      "-------------------------------------\n"
     ]
    }
   ],
   "source": [
    "gw.print_values()"
   ]
  },
  {
   "cell_type": "code",
   "execution_count": null,
   "id": "bibliographic-portable",
   "metadata": {},
   "outputs": [],
   "source": []
  }
 ],
 "metadata": {
  "kernelspec": {
   "display_name": "Python 3",
   "language": "python",
   "name": "python3"
  },
  "language_info": {
   "codemirror_mode": {
    "name": "ipython",
    "version": 3
   },
   "file_extension": ".py",
   "mimetype": "text/x-python",
   "name": "python",
   "nbconvert_exporter": "python",
   "pygments_lexer": "ipython3",
   "version": "3.6.12"
  }
 },
 "nbformat": 4,
 "nbformat_minor": 5
}
