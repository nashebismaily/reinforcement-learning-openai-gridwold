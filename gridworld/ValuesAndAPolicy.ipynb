{
 "cells": [
  {
   "cell_type": "code",
   "execution_count": 2,
   "id": "removable-bones",
   "metadata": {},
   "outputs": [],
   "source": [
    "from env import create_standard_grid"
   ]
  },
  {
   "cell_type": "markdown",
   "id": "professional-indian",
   "metadata": {},
   "source": [
    "Create the standard grid"
   ]
  },
  {
   "cell_type": "code",
   "execution_count": 3,
   "id": "ambient-discussion",
   "metadata": {},
   "outputs": [],
   "source": [
    "gw = create_standard_grid()"
   ]
  },
  {
   "cell_type": "markdown",
   "id": "functional-arthritis",
   "metadata": {},
   "source": [
    "Specify a policy "
   ]
  },
  {
   "cell_type": "code",
   "execution_count": 4,
   "id": "different-aberdeen",
   "metadata": {},
   "outputs": [],
   "source": [
    "policy = {\n",
    "    (0, 0): 'up', (0, 1): 'right', (0, 2): 'left', (0, 3): 'up',\n",
    "    (1, 0): 'up', (1, 1): '', (1, 2): 'right', (1, 3): '',\n",
    "    (2, 0): 'right', (2, 1): 'right', (2, 2): 'right', (2, 3): ''\n",
    "}"
   ]
  },
  {
   "cell_type": "markdown",
   "id": "settled-effect",
   "metadata": {},
   "source": [
    "Print values and print policy"
   ]
  },
  {
   "cell_type": "code",
   "execution_count": 5,
   "id": "successful-memory",
   "metadata": {},
   "outputs": [
    {
     "name": "stdout",
     "output_type": "stream",
     "text": [
      "-------------------------------------\n",
      "|   0.00 |   0.00 |   0.00 |   0.00 |\n",
      "-------------------------------------\n",
      "|   0.00 |   0.00 |   0.00 |   0.00 |\n",
      "-------------------------------------\n",
      "|   0.00 |   0.00 |   0.00 |   0.00 |\n",
      "-------------------------------------\n",
      "-------------------------------------\n",
      "|  Right |  Right |  Right |        |\n",
      "-------------------------------------\n",
      "|     Up |        |  Right |        |\n",
      "-------------------------------------\n",
      "|     Up |  Right |   Left |     Up |\n",
      "-------------------------------------\n"
     ]
    }
   ],
   "source": [
    "gw.print_values()\n",
    "gw.print_policy(policy)"
   ]
  }
 ],
 "metadata": {
  "kernelspec": {
   "display_name": "Python 3",
   "language": "python",
   "name": "python3"
  },
  "language_info": {
   "codemirror_mode": {
    "name": "ipython",
    "version": 3
   },
   "file_extension": ".py",
   "mimetype": "text/x-python",
   "name": "python",
   "nbconvert_exporter": "python",
   "pygments_lexer": "ipython3",
   "version": "3.8.5"
  }
 },
 "nbformat": 4,
 "nbformat_minor": 5
}
