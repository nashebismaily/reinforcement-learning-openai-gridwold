{
 "cells": [
  {
   "cell_type": "code",
   "execution_count": 1,
   "metadata": {},
   "outputs": [],
   "source": [
    "from env import create_custom_grid_1, create_custom_grid_2"
   ]
  },
  {
   "attachments": {},
   "cell_type": "markdown",
   "metadata": {},
   "source": [
    "**First Grid:**\n",
    "\n",
    "Start: (0,0)\n",
    "\n",
    "Barrrier: (1,1)\n",
    "\n",
    "Terminal: (1,2) (1,3)"
   ]
  },
  {
   "cell_type": "code",
   "execution_count": 2,
   "metadata": {},
   "outputs": [],
   "source": [
    "gw1 = create_custom_grid_1()"
   ]
  },
  {
   "cell_type": "code",
   "execution_count": 3,
   "metadata": {},
   "outputs": [
    {
     "name": "stdout",
     "output_type": "stream",
     "text": [
      "Row: 0, Column: 0, Value: 0, is_terminal: False, is_barrier: False\n",
      "Row: 0, Column: 1, Value: 0, is_terminal: False, is_barrier: False\n",
      "Row: 0, Column: 2, Value: 0, is_terminal: False, is_barrier: False\n",
      "Row: 0, Column: 3, Value: 0, is_terminal: False, is_barrier: False\n",
      "Row: 1, Column: 0, Value: 0, is_terminal: False, is_barrier: False\n",
      "Row: 1, Column: 1, Value: 0, is_terminal: False, is_barrier: True\n",
      "Row: 1, Column: 2, Value: 0, is_terminal: True, is_barrier: False\n",
      "Row: 1, Column: 3, Value: 0, is_terminal: True, is_barrier: False\n",
      "Row: 2, Column: 0, Value: 0, is_terminal: False, is_barrier: False\n",
      "Row: 2, Column: 1, Value: 0, is_terminal: False, is_barrier: False\n",
      "Row: 2, Column: 2, Value: 0, is_terminal: False, is_barrier: False\n",
      "Row: 2, Column: 3, Value: 0, is_terminal: False, is_barrier: False\n",
      "Row: 3, Column: 0, Value: 0, is_terminal: False, is_barrier: False\n",
      "Row: 3, Column: 1, Value: 0, is_terminal: False, is_barrier: False\n",
      "Row: 3, Column: 2, Value: 0, is_terminal: False, is_barrier: False\n",
      "Row: 3, Column: 3, Value: 0, is_terminal: False, is_barrier: False\n"
     ]
    }
   ],
   "source": [
    "gw1.print_grid_state()"
   ]
  },
  {
   "cell_type": "code",
   "execution_count": 4,
   "metadata": {},
   "outputs": [
    {
     "name": "stdout",
     "output_type": "stream",
     "text": [
      "Row: 0, Column: 0, Left: None, Right: 0.0, Down: None, Up: 0.0\n",
      "Row: 0, Column: 1, Left: 0.0, Right: 0.0, Down: None, Up: None\n",
      "Row: 0, Column: 2, Left: 0.0, Right: 0.0, Down: None, Up: 1.0\n",
      "Row: 0, Column: 3, Left: 0.0, Right: None, Down: None, Up: -1.0\n",
      "Row: 1, Column: 0, Left: None, Right: None, Down: 0.0, Up: 0.0\n",
      "Row: 1, Column: 1, Left: None, Right: None, Down: None, Up: None\n",
      "Row: 1, Column: 2, Left: None, Right: None, Down: None, Up: None\n",
      "Row: 1, Column: 3, Left: None, Right: None, Down: None, Up: None\n",
      "Row: 2, Column: 0, Left: None, Right: 0.0, Down: 0.0, Up: 0.0\n",
      "Row: 2, Column: 1, Left: 0.0, Right: 0.0, Down: None, Up: 0.0\n",
      "Row: 2, Column: 2, Left: 0.0, Right: 0.0, Down: 1.0, Up: 0.0\n",
      "Row: 2, Column: 3, Left: 0.0, Right: None, Down: -1.0, Up: 0.0\n",
      "Row: 3, Column: 0, Left: None, Right: 0.0, Down: 0.0, Up: None\n",
      "Row: 3, Column: 1, Left: 0.0, Right: 0.0, Down: 0.0, Up: None\n",
      "Row: 3, Column: 2, Left: 0.0, Right: 0.0, Down: 0.0, Up: None\n",
      "Row: 3, Column: 3, Left: None, Right: 0.0, Down: 0.0, Up: None\n"
     ]
    }
   ],
   "source": [
    "gw1.print_grid_rewards()"
   ]
  },
  {
   "cell_type": "code",
   "execution_count": 5,
   "metadata": {},
   "outputs": [
    {
     "name": "stdout",
     "output_type": "stream",
     "text": [
      "-------------------------------------\n",
      "|   0.00 |   0.00 |   0.00 |   0.00 |\n",
      "-------------------------------------\n",
      "|   0.00 |   0.00 |   0.00 |   0.00 |\n",
      "-------------------------------------\n",
      "|   0.00 |   0.00 |   0.00 |   0.00 |\n",
      "-------------------------------------\n",
      "|   0.00 |   0.00 |   0.00 |   0.00 |\n",
      "-------------------------------------\n"
     ]
    }
   ],
   "source": [
    "gw1.print_values()"
   ]
  },
  {
   "cell_type": "code",
   "execution_count": 6,
   "metadata": {},
   "outputs": [],
   "source": [
    "policy1 = {\n",
    "    (0, 0): 'right', (0, 1): 'right', (0, 2): 'up', (0, 3): 'left',\n",
    "    (1, 0): 'up', (1, 1): '', (1, 2): '', (1, 3): '',\n",
    "    (2, 0): 'right', (2, 1): 'right', (2, 2): 'down', (2, 3): 'left',\n",
    "    (3, 0): 'right', (3, 1): 'right', (3, 2): 'down', (3, 3): 'left'\n",
    "}"
   ]
  },
  {
   "cell_type": "code",
   "execution_count": 7,
   "metadata": {},
   "outputs": [
    {
     "name": "stdout",
     "output_type": "stream",
     "text": [
      "-------------------------------------\n",
      "|   0.00 |   0.00 |   0.00 |   0.00 |\n",
      "-------------------------------------\n",
      "|   0.00 |   0.00 |   0.00 |   0.00 |\n",
      "-------------------------------------\n",
      "|   0.00 |   0.00 |   0.00 |   0.00 |\n",
      "-------------------------------------\n",
      "|   0.00 |   0.00 |   0.00 |   0.00 |\n",
      "-------------------------------------\n",
      "-------------------------------------\n",
      "|  Right |  Right |   Down |   Left |\n",
      "-------------------------------------\n",
      "|  Right |  Right |   Down |   Left |\n",
      "-------------------------------------\n",
      "|     Up |        |        |        |\n",
      "-------------------------------------\n",
      "|  Right |  Right |     Up |   Left |\n",
      "-------------------------------------\n"
     ]
    }
   ],
   "source": [
    "gw1.print_values()\n",
    "gw1.print_policy(policy1)"
   ]
  },
  {
   "cell_type": "markdown",
   "metadata": {},
   "source": [
    "**Second Grid:**\n",
    "\n",
    "Start: (0,0)\n",
    "\n",
    "Barrrier: (0,1)\n",
    "\n",
    "Terminal: (0,2) (0,3)"
   ]
  },
  {
   "cell_type": "code",
   "execution_count": 12,
   "metadata": {},
   "outputs": [],
   "source": [
    "gw2 = create_custom_grid_2()"
   ]
  },
  {
   "cell_type": "code",
   "execution_count": 13,
   "metadata": {},
   "outputs": [
    {
     "name": "stdout",
     "output_type": "stream",
     "text": [
      "Row: 0, Column: 0, Value: 0, is_terminal: False, is_barrier: False\n",
      "Row: 0, Column: 1, Value: 0, is_terminal: False, is_barrier: True\n",
      "Row: 0, Column: 2, Value: 0, is_terminal: True, is_barrier: False\n",
      "Row: 0, Column: 3, Value: 0, is_terminal: True, is_barrier: False\n",
      "Row: 1, Column: 0, Value: 0, is_terminal: False, is_barrier: False\n",
      "Row: 1, Column: 1, Value: 0, is_terminal: False, is_barrier: False\n",
      "Row: 1, Column: 2, Value: 0, is_terminal: False, is_barrier: False\n",
      "Row: 1, Column: 3, Value: 0, is_terminal: False, is_barrier: False\n",
      "Row: 2, Column: 0, Value: 0, is_terminal: False, is_barrier: False\n",
      "Row: 2, Column: 1, Value: 0, is_terminal: False, is_barrier: False\n",
      "Row: 2, Column: 2, Value: 0, is_terminal: False, is_barrier: False\n",
      "Row: 2, Column: 3, Value: 0, is_terminal: False, is_barrier: False\n"
     ]
    }
   ],
   "source": [
    "gw2.print_grid_state()"
   ]
  },
  {
   "cell_type": "code",
   "execution_count": 14,
   "metadata": {},
   "outputs": [],
   "source": [
    "policy2 = {\n",
    "    (0, 0): 'up', (0, 1): '', (0, 2): '', (0, 3): '',\n",
    "    (1, 0): 'right', (1, 1): 'right', (1, 2): 'down', (1, 3): 'left',\n",
    "    (2, 0): 'right', (2, 1): 'right', (2, 2): 'down', (2, 3): 'left'\n",
    "}"
   ]
  },
  {
   "cell_type": "code",
   "execution_count": 15,
   "metadata": {},
   "outputs": [
    {
     "name": "stdout",
     "output_type": "stream",
     "text": [
      "-------------------------------------\n",
      "|   0.00 |   0.00 |   0.00 |   0.00 |\n",
      "-------------------------------------\n",
      "|   0.00 |   0.00 |   0.00 |   0.00 |\n",
      "-------------------------------------\n",
      "|   0.00 |   0.00 |   0.00 |   0.00 |\n",
      "-------------------------------------\n",
      "-------------------------------------\n",
      "|  Right |  Right |   Down |   Left |\n",
      "-------------------------------------\n",
      "|  Right |  Right |   Down |   Left |\n",
      "-------------------------------------\n",
      "|     Up |        |        |        |\n",
      "-------------------------------------\n"
     ]
    }
   ],
   "source": [
    "gw2.print_values()\n",
    "gw2.print_policy(policy2)"
   ]
  }
 ],
 "metadata": {
  "kernelspec": {
   "display_name": "Python 3",
   "language": "python",
   "name": "python3"
  },
  "language_info": {
   "codemirror_mode": {
    "name": "ipython",
    "version": 3
   },
   "file_extension": ".py",
   "mimetype": "text/x-python",
   "name": "python",
   "nbconvert_exporter": "python",
   "pygments_lexer": "ipython3",
   "version": "3.6.10"
  }
 },
 "nbformat": 4,
 "nbformat_minor": 4
}
